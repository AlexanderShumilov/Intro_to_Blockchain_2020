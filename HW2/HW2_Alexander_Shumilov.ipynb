{
 "cells": [
  {
   "cell_type": "markdown",
   "metadata": {},
   "source": [
    "# HW 2 (due November 30 23:59 MSK)"
   ]
  },
  {
   "cell_type": "markdown",
   "metadata": {},
   "source": [
    "### Problem 1 (1 points)"
   ]
  },
  {
   "cell_type": "markdown",
   "metadata": {},
   "source": [
    "Diffie–Hellman key exchange protocol is one of the earliest practical examples of public key exchange implemented within the field of cryptography. Published in 1976 by Diffie and Hellman, this is the earliest publicly known work that proposed the idea of a private key and a corresponding public key. "
   ]
  },
  {
   "cell_type": "markdown",
   "metadata": {},
   "source": [
    "1. Implement function to generate common secret key within multiplicative group of given Finite field with known generator "
   ]
  },
  {
   "cell_type": "code",
   "execution_count": 15,
   "metadata": {},
   "outputs": [],
   "source": [
    "def generate(p, g, a, B):\n",
    "    # s = B^a mod p\n",
    "    return pow(B, a, p) # function that do exactly what we need from data that we are given"
   ]
  },
  {
   "cell_type": "code",
   "execution_count": 22,
   "metadata": {},
   "outputs": [],
   "source": [
    "def log_gridsearch(g, B, p):\n",
    "    # B = g^b mod p via gridsearch\n",
    "    for i in range(p):\n",
    "        if B == (g ** i) % p:\n",
    "            return i\n",
    "        \n",
    "def public_from_private(g, a, p):\n",
    "    return (g ** a) % p"
   ]
  },
  {
   "cell_type": "markdown",
   "metadata": {},
   "source": [
    "2. Test your solution in GF(17) with generator g=11. Bobs' open key B=11, Alice private key is a=7"
   ]
  },
  {
   "cell_type": "code",
   "execution_count": 23,
   "metadata": {},
   "outputs": [
    {
     "name": "stdout",
     "output_type": "stream",
     "text": [
      "3\n"
     ]
    }
   ],
   "source": [
    "s = generate(17, 11, 7, 11) # reference easy way to compare with normal procedure\n",
    "print(s)"
   ]
  },
  {
   "cell_type": "code",
   "execution_count": 24,
   "metadata": {},
   "outputs": [
    {
     "name": "stdout",
     "output_type": "stream",
     "text": [
      "True\n"
     ]
    }
   ],
   "source": [
    "b = log_gridsearch(11, 11, 17) # b from B, assuming we don't know a and и from the start, as in seminar example\n",
    "A = public_from_private(11, 7, 17) # A = g^a mod p - getting A from a to check (A^b mod p) equals to (B^a mod p)\n",
    "print(s == (A ** b) % 17) # if \"True\", then normal handmade search gives same result as simple straightforward \"pow\" method"
   ]
  },
  {
   "cell_type": "markdown",
   "metadata": {},
   "source": [
    "### Problem 2 (3 points)"
   ]
  },
  {
   "cell_type": "markdown",
   "metadata": {},
   "source": [
    "El Gamal protocol is widely used in cryptography. In this task we will ask you to implement your own El-Gamal encryption scheme on Python"
   ]
  },
  {
   "cell_type": "markdown",
   "metadata": {},
   "source": [
    "1. Implement function for generating keys. The function must generate big random prime number (problem of generating big prime numbers was discussed within the lectures). (1 point)"
   ]
  },
  {
   "cell_type": "code",
   "execution_count": 3,
   "metadata": {},
   "outputs": [],
   "source": [
    "from random import randint, randrange\n",
    "import hashlib"
   ]
  },
  {
   "cell_type": "code",
   "execution_count": 4,
   "metadata": {},
   "outputs": [],
   "source": [
    "def test_prime_fermat(n = 256, N = 512): # I didn't use it (as well as seminar's version), works slower\n",
    "    \n",
    "    flag_prime = False\n",
    "    prime = 2 \n",
    "    \n",
    "    while not flag_prime:\n",
    "        \n",
    "        prime = randrange(2 ** (n - 1), 2 ** n) # generate big number\n",
    "        \n",
    "        for idx in range(1, N):\n",
    "            if pow(idx, prime - 1, prime) != 1: # (i ^ [p - 1]) mod p\n",
    "                flag_prime = False\n",
    "        flag_prime = True\n",
    "        print(idx)\n",
    "    return prime\n",
    "    \n",
    "\n",
    "        \n",
    "def test_prime_miller_rabin(prime, N = 100): # algorithm from wikipedia\n",
    "            \n",
    "    if prime % 2 != 0: # to exclude even numbers right away\n",
    "            \n",
    "        s = 0\n",
    "        t = prime - 1\n",
    "        \n",
    "        while t % 2 == 0: # convert prime - 1 to form (2^s)*t\n",
    "            s += 1\n",
    "            t = t //2\n",
    "                \n",
    "        for _ in range(N):\n",
    "                \n",
    "            a = randrange(2, prime - 1)\n",
    "            x = pow(a, t, prime) # (a ^ t) mod p\n",
    "                \n",
    "            if x == 1 or x == prime - 1:\n",
    "                continue\n",
    "                    \n",
    "            for _ in range(s - 1):\n",
    "                x = pow(x, 2, prime) # (x ^ 2) mod p\n",
    "                if x == prime - 1:\n",
    "                    break\n",
    "                        \n",
    "            else:\n",
    "                return False\n",
    "                    \n",
    "        return True\n",
    "\n",
    "def generate_keys(p):\n",
    "    \n",
    "    g = randint(1, p - 1)\n",
    "    x = randint(1, p - 1)\n",
    "    \n",
    "    public = pow(g, x, p) # (y, g, p)\n",
    "    private = x # (x, g, p)\n",
    "    \n",
    "    return public, private, g"
   ]
  },
  {
   "cell_type": "markdown",
   "metadata": {},
   "source": [
    "2. Implement functions that realize the encryption and decryption in El Gamal protocol. (1 points)"
   ]
  },
  {
   "cell_type": "code",
   "execution_count": 5,
   "metadata": {},
   "outputs": [],
   "source": [
    "def Encrypt(M, prime, g, public):\n",
    "    \n",
    "    assert M < prime - 1, 'Message is larger than prime number'\n",
    "\n",
    "    k = randint(1, prime - 1)\n",
    "    a = pow(g, k, prime)\n",
    "       \n",
    "    #b = ((public ** k) * M ) % p # bad idea to compute this with large \n",
    "    b = (pow(public, k, prime) * (M % prime)) % prime\n",
    "\n",
    "    return a, b\n",
    "\n",
    "def Decrypt(a, b, private, prime):\n",
    "    #с = (b / a ** private) % p # again bad idea to compute this with large p\n",
    "    \n",
    "    # because of Fermat theorem we can add additional multiplier to power of 'a'\n",
    "    с = (b * pow(a, prime - 1 - private, prime)) % prime \n",
    "    \n",
    "    return с"
   ]
  },
  {
   "cell_type": "markdown",
   "metadata": {},
   "source": [
    "3. Calculate Hash of your name by SHA-1 and test El Gamal encryption/decryption functions on it (1 points)"
   ]
  },
  {
   "cell_type": "code",
   "execution_count": 9,
   "metadata": {},
   "outputs": [],
   "source": [
    "flag_prime = False\n",
    "n = 200\n",
    "\n",
    "while not flag_prime:\n",
    "    p = randrange(2 ** (n - 1), 2 ** n) # generate big number\n",
    "    flag_prime = test_prime_miller_rabin(p)\n",
    "\n",
    "public, private, g = generate_keys(p)  \n",
    "\n",
    "M = hashlib.sha1(\"AlexanderShumilov\".encode('ascii')).hexdigest()\n",
    "M_dec = int(M, 16)\n",
    "\n",
    "a, b = Encrypt(M_dec, p, g, public)\n",
    "M_decrypted = Decrypt(a, b, private, p)"
   ]
  },
  {
   "cell_type": "code",
   "execution_count": 14,
   "metadata": {},
   "outputs": [
    {
     "name": "stdout",
     "output_type": "stream",
     "text": [
      "Prime number:  918357683008465178011769129376918789290420065664111527647691\n",
      "Hashed name original:  7bfb22e00b3c0df78856c0a56d0d8660aab16076\n",
      "Hashed name decimal:  707806389912068647075825954720867456291485868150\n",
      "Hashed name decrypted:  7bfb22e00b3c0df78856c0a56d0d8660aab16076\n",
      "\n",
      "Encryption and Decryption processes are correct\n"
     ]
    }
   ],
   "source": [
    "print('Prime number: ', p)\n",
    "print('Hashed name original: ', M)\n",
    "print('Hashed name decimal: ', M_dec)\n",
    "print('Hashed name decrypted: ', hex(M_decrypted)[2:])\n",
    "print()\n",
    "\n",
    "if hex(M_decrypted)[2:] == M:\n",
    "    print('Encryption and Decryption processes are correct')\n",
    "else:\n",
    "    print('Encryption and Decryption processes are incorrect, something went wrong')"
   ]
  },
  {
   "cell_type": "markdown",
   "metadata": {},
   "source": [
    "### Problem 3 (3 points)"
   ]
  },
  {
   "cell_type": "markdown",
   "metadata": {},
   "source": [
    "Elliptic curves due to their efficient hardware realization widely used in modern secure communication channels. The main thing that lies inside their cryptographic hardness is that we can break them only by greed search over all group points. In this task, we will ask you to write python function that returns all group elements of a certain elliptic curve over a finite field "
   ]
  },
  {
   "cell_type": "markdown",
   "metadata": {},
   "source": [
    "1. Write a python function that list all points of elliptic curve $y^2=x^3-5x-8$ over $F_{11}$ (2 points)"
   ]
  },
  {
   "cell_type": "code",
   "execution_count": 5,
   "metadata": {},
   "outputs": [],
   "source": [
    "import matplotlib.pyplot as plt\n",
    "\n",
    "def list_points(p, q, prime): # y^2 = x^3 - px - q -> p = 5, q = 8\n",
    "    \n",
    "    rhs_list = []\n",
    "    lhs_list = []\n",
    "    point_list = []\n",
    "    \n",
    "    i_list = []\n",
    "    j_list = []\n",
    "    \n",
    "    # Good video: https://www.youtube.com/watch?v=_QR-kTypf4E&ab_channel=LecturesbyShreedarshanK\n",
    "    # Nice material 1: https://jeremykun.com/2014/02/08/introducing-elliptic-curves/\n",
    "    # Nice material 2: https://habr.com/ru/post/335906/\n",
    "    # Nice material 3: http://www.pdmi.ras.ru/~lowdimma/BSD/Silverman-Arithmetic_of_EC.pdf\n",
    "    \n",
    "    for i in range(prime):\n",
    "        rhs_list.append((i**3 - p*i - q) % prime) # RHS (x^3 - px - q) mod prime for x in [0, prime - 1]\n",
    "        lhs_list.append((i**2) % prime) # LHS (y^2) mod prime for y in [0, prime - 1]\n",
    "        \n",
    "    for i in range(len(rhs_list)):\n",
    "        for j in range(len(lhs_list)):\n",
    "            if rhs_list[i] == lhs_list[j]: # If mod results are equal, then point lies on curve\n",
    "                point_list.append((i, j))\n",
    "                i_list.append(i)\n",
    "                j_list.append(j)\n",
    "                \n",
    "    plt.scatter(i_list, j_list)            \n",
    "    return point_list"
   ]
  },
  {
   "cell_type": "code",
   "execution_count": 6,
   "metadata": {},
   "outputs": [
    {
     "name": "stdout",
     "output_type": "stream",
     "text": [
      "Points of elliptic curve:  [(0, 5), (0, 6), (2, 1), (2, 10), (3, 2), (3, 9), (4, 5), (4, 6), (5, 2), (5, 9), (7, 5), (7, 6), (9, 4), (9, 7)]\n"
     ]
    },
    {
     "data": {
      "image/png": "[encoded data removed]",
      "text/plain": [
       "<Figure size 432x288 with 1 Axes>"
      ]
     },
     "metadata": {
      "needs_background": "light"
     },
     "output_type": "display_data"
    }
   ],
   "source": [
    "points = list_points(5, 8, 11)\n",
    "print('Points of elliptic curve: ', points) \n",
    "\n",
    "# I checked my solution (which is correct) here: https://graui.de/code/elliptic2/\n",
    "# 'Infinity' point O wasn't included but was taken into account in"
   ]
  },
  {
   "cell_type": "markdown",
   "metadata": {},
   "source": [
    "2. Compute the sum of two points in group above and make sure that result lies within the same group (1 point)"
   ]
  },
  {
   "cell_type": "code",
   "execution_count": 7,
   "metadata": {},
   "outputs": [],
   "source": [
    "# Part of find_inverse below - seminar code\n",
    "# See: http://en.wikipedia.org/wiki/Extended_Euclidean_algorithm\n",
    "def eea(a,b):\n",
    "    if b==0:return (1,0)\n",
    "    (q,r) = (a//b,a%b)\n",
    "    (s,t) = eea(b,r)\n",
    "    return (t, s-(q*t) )\n",
    "\n",
    "# Find the multiplicative inverse of x (mod y)\n",
    "# see: http://en.wikipedia.org/wiki/Modular_multiplicative_inverse\n",
    "def find_inverse(x,y):\n",
    "    inv = eea(x,y)[0]\n",
    "    if inv < 1: inv += y #we only want positive values\n",
    "    return inv\n",
    "\n",
    "# https://www.youtube.com/watch?v=NTztut15D2E&t=526s&ab_channel=AdvancedMaths\n",
    "def find_slope(P, Q, prime): # slope (tangent) of line PQ\n",
    "    \n",
    "    x_P = P[0]\n",
    "    y_P = P[1]\n",
    "    \n",
    "    x_Q = Q[0]\n",
    "    y_Q = Q[1]\n",
    "    \n",
    "    if x_P == x_Q and y_P == y_Q: # Special case (P = Q)\n",
    "        sl = ((3 * x_P**2 - p) * find_inverse(2*y_P, prime))  # instead of division we must use inversion - very important\n",
    "        \n",
    "    else: # Ordinary case handling \n",
    "        sl = ((y_P - y_Q) * find_inverse(x_P - x_Q, prime))  \n",
    "    \n",
    "    return sl % prime \n",
    "\n",
    "def add_points(P, Q, p, prime): # We assume that these points already belong to curve and no need to check that\n",
    "    \n",
    "    x_P = P[0]\n",
    "    y_P = P[1]\n",
    "    \n",
    "    x_Q = Q[0]\n",
    "    y_Q = Q[1]\n",
    "    '''\n",
    "    if y_P == - y_Q:\n",
    "        return 0 # 'infinity' point\n",
    "    ''' \n",
    "    if x_P == x_Q and (y_P + y_Q) % prime == 0:\n",
    "        return 0 # 'infinity' point\n",
    "    \n",
    "    sl = find_slope(P, Q, prime)\n",
    "        \n",
    "    x_R = sl**2 - x_P - x_Q\n",
    "    y_R = sl * (x_P - x_R) - y_P\n",
    "    \n",
    "    x_R_result = x_R % prime\n",
    "    y_R_result = y_R % prime\n",
    "    \n",
    "    return x_R_result, y_R_result"
   ]
  },
  {
   "cell_type": "code",
   "execution_count": 8,
   "metadata": {},
   "outputs": [
    {
     "name": "stdout",
     "output_type": "stream",
     "text": [
      "Results of summations for all pair of points gives correct result\n"
     ]
    }
   ],
   "source": [
    "flag = True\n",
    "for idx, point_pair_1 in enumerate(points):\n",
    "    for point_pair_2 in points[idx + 1:]:\n",
    "        R = add_points(point_pair_1, point_pair_2, 5, 11)\n",
    "        if R not in points:\n",
    "            if R != 0: # in this case we get 'infinity point' O and it is okay\n",
    "                print('Sum of points {} and {} does not lie in group F(11)'.format(point_pair_1, point_pair_2))\n",
    "                flag = False\n",
    "            \n",
    "if flag:\n",
    "    print('Results of summations for all pair of points gives correct result')"
   ]
  },
  {
   "cell_type": "markdown",
   "metadata": {},
   "source": [
    "### Problem 4 (3 points)"
   ]
  },
  {
   "cell_type": "markdown",
   "metadata": {},
   "source": [
    "Merkle hash trees play an important role in forming transaction blocks in blockchain. In this assignment we ask you to plot your own Merkle hash tree and check its' properties. Below we provide you with some code fragment what you can use in your assignment"
   ]
  },
  {
   "cell_type": "code",
   "execution_count": 14,
   "metadata": {},
   "outputs": [],
   "source": [
    "import matplotlib\n",
    "import networkx as nx\n",
    "%matplotlib qt5 # draws in new window\n",
    "#%matplotlib inline\n",
    "\n",
    "from networkx import balanced_tree, draw_networkx, draw"
   ]
  },
  {
   "cell_type": "markdown",
   "metadata": {},
   "source": [
    "Let us plot graph basis for Merkle hash tree"
   ]
  },
  {
   "cell_type": "code",
   "execution_count": 15,
   "metadata": {},
   "outputs": [
    {
     "data": {
      "text/plain": [
       "{0: Text(0, 4, '0'),\n",
       " 1: Text(-2, 3, '1'),\n",
       " 2: Text(2, 3, '2'),\n",
       " 3: Text(-3, 2, '3'),\n",
       " 4: Text(-1, 2, '4'),\n",
       " 5: Text(1, 2, '5'),\n",
       " 6: Text(3, 2, '6'),\n",
       " 7: Text(-3, 1, 'tx1'),\n",
       " 8: Text(-1, 1, 'tx2'),\n",
       " 9: Text(1, 1, 'tx3'),\n",
       " 10: Text(3, 1, 'tx4')}"
      ]
     },
     "execution_count": 15,
     "metadata": {},
     "output_type": "execute_result"
    },
    {
     "data": {
      "image/png": "[encoded data removed]",
      "text/plain": [
       "<Figure size 432x288 with 1 Axes>"
      ]
     },
     "metadata": {},
     "output_type": "display_data"
    }
   ],
   "source": [
    "G = nx.Graph()\n",
    "positions = {}\n",
    "coordinates = [\n",
    "    [0, 4],\n",
    "    [-2, 3],\n",
    "    [2, 3],\n",
    "    [-3, 2],\n",
    "    [-1, 2],\n",
    "    [1, 2],\n",
    "    [3, 2],\n",
    "    [-3, 1],\n",
    "    [-1, 1],\n",
    "    [1, 1],\n",
    "    [3, 1]\n",
    "]\n",
    "parents = [0, 0, 0, 1, 1, 2, 2, 3, 4, 5, 6]\n",
    "for index in range(11):\n",
    "    G.add_node(index)\n",
    "    G.add_edge(index, parents[index])\n",
    "    positions[index] = coordinates[index]\n",
    "nx.draw(G, positions, node_size = 1000)\n",
    "labels = {\n",
    "    0: '0',\n",
    "    1: '1',\n",
    "    2: '2',\n",
    "    3: '3',\n",
    "    4: '4',\n",
    "    5: '5',\n",
    "    6: '6',\n",
    "    7: 'tx1',\n",
    "    8: 'tx2',\n",
    "    9: 'tx3',\n",
    "    10: 'tx4',\n",
    "}\n",
    "nx.draw_networkx_labels(G, positions, labels = labels)"
   ]
  },
  {
   "cell_type": "markdown",
   "metadata": {},
   "source": [
    "In Bitcoin double sha256 hash scheme is used. Here is an example."
   ]
  },
  {
   "cell_type": "code",
   "execution_count": 16,
   "metadata": {},
   "outputs": [
    {
     "name": "stdout",
     "output_type": "stream",
     "text": [
      "First hash represented as a hexadecimal number: 2cf24dba5fb0a30e26e83b2ac5b9e29e1b161e5c1fa7425e73043362938b9824\n",
      "Second hash represented as a hexadecimal number: 9595c9df90075148eb06860365df33584b75bff782a510c6cd4883a419833d50\n"
     ]
    }
   ],
   "source": [
    "import hashlib\n",
    "\n",
    "\n",
    "first_hash = hashlib.sha256(b\"hello\") # \"b\" stands for binary representation\n",
    "second_hash = hashlib.sha256()\n",
    "print('First hash represented as a hexadecimal number:', first_hash.hexdigest())\n",
    "second_hash.update(first_hash.digest())\n",
    "print('Second hash represented as a hexadecimal number:', second_hash.hexdigest())"
   ]
  },
  {
   "cell_type": "markdown",
   "metadata": {},
   "source": [
    "Now we can easily change vertices' labels to hashes of corresponding messages and plot new graph"
   ]
  },
  {
   "cell_type": "code",
   "execution_count": 17,
   "metadata": {},
   "outputs": [
    {
     "name": "stdout",
     "output_type": "stream",
     "text": [
      "856a4921cd32690244af7568e7bd1391a94119e17c7f33234f4bf11271b223e5\n"
     ]
    },
    {
     "data": {
      "image/png": "[encoded data removed]",
      "text/plain": [
       "<Figure size 432x288 with 1 Axes>"
      ]
     },
     "metadata": {},
     "output_type": "display_data"
    }
   ],
   "source": [
    "labels[3] = hashlib.sha256(hashlib.sha256(b\"tx1\").digest()).hexdigest()\n",
    "\n",
    "# and plot the graph again\n",
    "\n",
    "nx.draw(G, positions, node_size = 1000)\n",
    "nx.draw_networkx_labels(G, positions, labels = labels, font_size = 8)\n",
    "print(labels[3])"
   ]
  },
  {
   "cell_type": "markdown",
   "metadata": {},
   "source": [
    "1. Construct Merkle hash tree using previously constructed graph by finding corresponding SHA256 hashes on vertices and plot obtained Merkle hash tree (1 point)"
   ]
  },
  {
   "cell_type": "code",
   "execution_count": 18,
   "metadata": {},
   "outputs": [],
   "source": [
    "def hash256(vertice): # Hashing\n",
    "    return hashlib.sha256(hashlib.sha256(vertice.encode('ascii')).digest()).hexdigest()"
   ]
  },
  {
   "cell_type": "code",
   "execution_count": 19,
   "metadata": {},
   "outputs": [
    {
     "data": {
      "text/plain": [
       "{0: Text(0, 4, '5eaee129fb6c4761a542e919f8fd0fa3f3c3d83a33bbeeec5a7e8772ddfb8f88'),\n",
       " 1: Text(-2, 3, '41925fc3630f375e23755f04099f1b2c51f372a9792762b28478fbbc5faf1106'),\n",
       " 2: Text(2, 3, '5c72c2fc6c2ed732c66fa8dc63f163617be1eb6175b88b3b640f440abb236e73'),\n",
       " 3: Text(-3, 2, '856a4921cd32690244af7568e7bd1391a94119e17c7f33234f4bf11271b223e5'),\n",
       " 4: Text(-1, 2, '79043a4d1d4d6d0b830519bfc07b92b4d162a4cd54235719c2c3cc211a638dfd'),\n",
       " 5: Text(1, 2, 'ef729c31d206229249bd791b29676d26cc7465aa6bc2003d80c7a82a316e0233'),\n",
       " 6: Text(3, 2, '4746dc9c16f97469fa45710394c4a0e2f29226efc04cab47c29ce579ae19a74e'),\n",
       " 7: Text(-3, 1, 'tx1'),\n",
       " 8: Text(-1, 1, 'tx2'),\n",
       " 9: Text(1, 1, 'tx3'),\n",
       " 10: Text(3, 1, 'tx4')}"
      ]
     },
     "execution_count": 19,
     "metadata": {},
     "output_type": "execute_result"
    },
    {
     "data": {
      "image/png": "[encoded data removed]",
      "text/plain": [
       "<Figure size 432x288 with 1 Axes>"
      ]
     },
     "metadata": {},
     "output_type": "display_data"
    }
   ],
   "source": [
    "for i in range(3, 7): # 3,4,5,6\n",
    "    labels[i] = hash256(\"tx\"+str(i - 2))\n",
    "\n",
    "labels[1] = hash256(labels[3] + labels[4])\n",
    "labels[2] = hash256(labels[5] + labels[6])\n",
    "labels[0] = hash256(labels[1] + labels[2])\n",
    "\n",
    "nx.draw(G, positions, node_size = 1000)\n",
    "nx.draw_networkx_labels(G, positions, labels = labels, font_size = 8)"
   ]
  },
  {
   "cell_type": "markdown",
   "metadata": {},
   "source": [
    "2. Provide a proof of correctness of leaf tx1 and set of leafs tx1-tx2 (1 point)"
   ]
  },
  {
   "cell_type": "markdown",
   "metadata": {},
   "source": [
    "Here we need to calculate hashes of vertices corresponding to tx1 and tx2 (so 3rd and 4th), then calculate hash of vertice 1, then calculate hash of vertices (1 + 2) and compare to value of vertice 0. If we will get 'True', then everything is right. Same for tx_1"
   ]
  },
  {
   "cell_type": "code",
   "execution_count": 20,
   "metadata": {},
   "outputs": [
    {
     "name": "stdout",
     "output_type": "stream",
     "text": [
      "True\n",
      "True\n"
     ]
    }
   ],
   "source": [
    "#  tx_1\n",
    "labels[3] = hash256(\"tx1\")\n",
    "labels[1] = hash256(labels[3] + labels[4])\n",
    "\n",
    "print(labels[0] == hash256(labels[1] + labels[2]))\n",
    "\n",
    "# tx_1 & tx_2\n",
    "for i in range(3, 4): # 3,4 -> tx1, tx2\n",
    "    labels[i] = hash256(\"tx\"+str(i - 2))\n",
    "    \n",
    "labels[1] = hash256(labels[3] + labels[4])\n",
    "print(labels[0] == hash256(labels[1] + labels[2]))"
   ]
  },
  {
   "cell_type": "markdown",
   "metadata": {},
   "source": [
    "3. Change the value on leaf tx1 and recompute corresponding hashes. Plot newly obtained Merkle hash tree (1 point)"
   ]
  },
  {
   "cell_type": "code",
   "execution_count": 21,
   "metadata": {},
   "outputs": [
    {
     "data": {
      "text/plain": [
       "{0: Text(0, 4, 'faa4ab1f0c09cf093696874e29e0c5ed2e3d8e3371eca8bf2e373dc12de48755'),\n",
       " 1: Text(-2, 3, '1582229e2ebc3723f1d7d9925549938ecf13a1f1614d2f7f02ac57bdee5d852b'),\n",
       " 2: Text(2, 3, '5c72c2fc6c2ed732c66fa8dc63f163617be1eb6175b88b3b640f440abb236e73'),\n",
       " 3: Text(-3, 2, '01497f2897652898bc310401b8f4f8d40f278e715a62f39eba5460551b2d144d'),\n",
       " 4: Text(-1, 2, '79043a4d1d4d6d0b830519bfc07b92b4d162a4cd54235719c2c3cc211a638dfd'),\n",
       " 5: Text(1, 2, 'ef729c31d206229249bd791b29676d26cc7465aa6bc2003d80c7a82a316e0233'),\n",
       " 6: Text(3, 2, '4746dc9c16f97469fa45710394c4a0e2f29226efc04cab47c29ce579ae19a74e'),\n",
       " 7: Text(-3, 1, 'tx1AlexanderShumilov'),\n",
       " 8: Text(-1, 1, 'tx2'),\n",
       " 9: Text(1, 1, 'tx3'),\n",
       " 10: Text(3, 1, 'tx4')}"
      ]
     },
     "execution_count": 21,
     "metadata": {},
     "output_type": "execute_result"
    },
    {
     "data": {
      "image/png": "[encoded data removed]",
      "text/plain": [
       "<Figure size 432x288 with 1 Axes>"
      ]
     },
     "metadata": {},
     "output_type": "display_data"
    }
   ],
   "source": [
    "# print(labels)\n",
    "\n",
    "new_tx = \"tx1AlexanderShumilov\"\n",
    "\n",
    "labels[3] = hash256(new_tx)\n",
    "labels[1] = hash256(labels[3] + labels[4]) # Vertice 1 and 0 will change, other vertices will not\n",
    "labels[0] = hash256(labels[1] + labels[2])\n",
    "\n",
    "labels[7] = new_tx # change label of labels[3] descendant\n",
    "\n",
    "nx.draw(G, positions, node_size = 1000)\n",
    "nx.draw_networkx_labels(G, positions, labels = labels, font_size = 8)"
   ]
  },
  {
   "cell_type": "code",
   "execution_count": null,
   "metadata": {},
   "outputs": [],
   "source": []
  }
 ],
 "metadata": {
  "kernelspec": {
   "display_name": "Python 3",
   "language": "python",
   "name": "python3"
  },
  "language_info": {
   "codemirror_mode": {
    "name": "ipython",
    "version": 3
   },
   "file_extension": ".py",
   "mimetype": "text/x-python",
   "name": "python",
   "nbconvert_exporter": "python",
   "pygments_lexer": "ipython3",
   "version": "3.8.5"
  }
 },
 "nbformat": 4,
 "nbformat_minor": 2
}
