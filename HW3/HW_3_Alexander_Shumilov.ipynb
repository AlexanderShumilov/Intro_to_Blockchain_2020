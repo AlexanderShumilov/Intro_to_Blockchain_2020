{
 "cells": [
  {
   "cell_type": "markdown",
   "metadata": {},
   "source": [
    "## Pre-requisite 0: make imports"
   ]
  },
  {
   "cell_type": "code",
   "execution_count": 3,
   "metadata": {},
   "outputs": [
    {
     "ename": "ModuleNotFoundError",
     "evalue": "No module named 'web3'",
     "output_type": "error",
     "traceback": [
      "\u001b[1;31m---------------------------------------------------------------------------\u001b[0m",
      "\u001b[1;31mModuleNotFoundError\u001b[0m                       Traceback (most recent call last)",
      "\u001b[1;32m<ipython-input-3-bc2e70453659>\u001b[0m in \u001b[0;36m<module>\u001b[1;34m\u001b[0m\n\u001b[1;32m----> 1\u001b[1;33m \u001b[1;32mfrom\u001b[0m \u001b[0mweb3\u001b[0m \u001b[1;32mimport\u001b[0m \u001b[0mWeb3\u001b[0m\u001b[1;33m\u001b[0m\u001b[1;33m\u001b[0m\u001b[0m\n\u001b[0m\u001b[0;32m      2\u001b[0m \u001b[1;32mimport\u001b[0m \u001b[0mos\u001b[0m\u001b[1;33m\u001b[0m\u001b[1;33m\u001b[0m\u001b[0m\n\u001b[0;32m      3\u001b[0m \u001b[1;32mimport\u001b[0m \u001b[0mecdsa\u001b[0m\u001b[1;33m\u001b[0m\u001b[1;33m\u001b[0m\u001b[0m\n\u001b[0;32m      4\u001b[0m \u001b[1;32mfrom\u001b[0m \u001b[0mCrypto\u001b[0m\u001b[1;33m.\u001b[0m\u001b[0mHash\u001b[0m \u001b[1;32mimport\u001b[0m \u001b[0mkeccak\u001b[0m\u001b[1;33m\u001b[0m\u001b[1;33m\u001b[0m\u001b[0m\n\u001b[0;32m      5\u001b[0m \u001b[1;32mfrom\u001b[0m \u001b[0mPassword_Key_generator\u001b[0m \u001b[1;32mimport\u001b[0m \u001b[0mpassword_pvt_key\u001b[0m\u001b[1;33m\u001b[0m\u001b[1;33m\u001b[0m\u001b[0m\n",
      "\u001b[1;31mModuleNotFoundError\u001b[0m: No module named 'web3'"
     ]
    }
   ],
   "source": [
    "from web3 import Web3\n",
    "import os\n",
    "import ecdsa\n",
    "from Crypto.Hash import keccak    \n",
    "from Password_Key_generator import password_pvt_key\n",
    "#import webbrowser"
   ]
  },
  {
   "cell_type": "markdown",
   "metadata": {},
   "source": [
    "## Pre-requisite 1: Generate 2 Ethereum testnet addresses (address_1, address_2) "
   ]
  },
  {
   "cell_type": "code",
   "execution_count": null,
   "metadata": {},
   "outputs": [],
   "source": [
    "# Functions frpm seminar\n",
    "\n",
    "def sha3(a):\n",
    "    keccak_hash = keccak.new(digest_bits=256)\n",
    "    keccak_hash.update(a)\n",
    "    #return '0x' + keccak_hash.hexdigest()[24:]\n",
    "    return '0x' + keccak_hash.hexdigest()\n",
    "\n",
    "#Function for Checksum\n",
    "def checksum_encode(addr_str): # Takes a hex (string) address as input\n",
    "    keccak_hash = keccak.new(digest_bits=256)\n",
    "    out = ''\n",
    "    addr = addr_str.lower().replace('0x', '')\n",
    "    keccak_hash.update(addr.encode('ascii'))\n",
    "    hash_addr = keccak_hash.hexdigest()\n",
    "    for i, c in enumerate(addr):\n",
    "        #print(i,c, hash_addr[i])\n",
    "        if int(hash_addr[i], 16) >= 8:\n",
    "            out += c.upper()\n",
    "        else:\n",
    "            out += c\n",
    "    return '0x' + out\n",
    "\n",
    "def test(addrstr):\n",
    "    assert(addrstr == checksum_encode(addrstr))\n",
    "    \n",
    "def ecdsa_maths(private_key_from_hex):\n",
    "    sk = ecdsa.SigningKey.from_string(private_key_from_hex, curve = ecdsa.SECP256k1)\n",
    "    #actual publickey to verify messages that singed using own pvt key\n",
    "    verification_key = sk.verifying_key\n",
    "    #making Public Key:\n",
    "    public_key =  verification_key.to_string()\n",
    "    #print(public_key.hex())\n",
    "    return public_key\n",
    "\n",
    "def address(passwrd):\n",
    "    #Storing Hex_of_Private_key\n",
    "    password = passwrd\n",
    "    print(\"You Entered/Generated Private key.....\\n\\n\")\n",
    "    \n",
    "    #calling ecdsa_math function to receive public_key of the private_key(password)\n",
    "    public_key = ecdsa_maths(password)\n",
    "    print(\"Public_Key:\", public_key.hex())\n",
    "    \n",
    "\n",
    "    #Taking SHA of public_key\n",
    "    print('\\n\\nTaking SHA3 of Public_Key (32 bytes)')\n",
    "    full_address = sha3(public_key)\n",
    "    print('Full Address(32B):',full_address)\n",
    "    \n",
    "    #last_20bytes_of_public_key_Address\n",
    "    print(\"\\n\\nEthereum Address is last 20bytes of Full Address\")\n",
    "    address = full_address[26:]\n",
    "    print(\"Address:\",address)\n",
    "    \n",
    "    #print(\"Raw_Address\", address,'\\n')\n",
    "    print(f'\\nPrivate Key: {password.hex()}\\nChecksum Address: {checksum_encode(address)}')\n",
    "    \n",
    "# Generation itself\n",
    "private_key_1 = os.urandom(32).hex()\n",
    "test_address_1 = address(bytes.fromhex(private_key_1))\n",
    "\n",
    "private_key_2 = os.urandom(32).hex()\n",
    "test_address_2 = address(bytes.fromhex(private_key_2))\n",
    "\n",
    "# Test addresses:\n",
    "print()\n",
    "print('------------------------------------')\n",
    "test(test_address_1)\n",
    "print()\n",
    "test(test_address_2)"
   ]
  },
  {
   "cell_type": "markdown",
   "metadata": {},
   "source": [
    "## Pre-requisite 2: Keep Address_1 as your main test address (use ropsten test network)\n",
    "(Hint: Take input from the user, use the if-else method to connect to different networks. User different Infura Endpoints)"
   ]
  },
  {
   "cell_type": "code",
   "execution_count": null,
   "metadata": {},
   "outputs": [],
   "source": [
    "print('Main address : ', test_address_1)\n",
    "print('Second address: ', test_address_2)"
   ]
  },
  {
   "cell_type": "markdown",
   "metadata": {},
   "source": [
    "## 1. Create a user-interacting interface to connect to different blockchain networks, i.e. main net, testnets (any two), and ganache "
   ]
  },
  {
   "cell_type": "code",
   "execution_count": null,
   "metadata": {},
   "outputs": [],
   "source": []
  },
  {
   "cell_type": "markdown",
   "metadata": {},
   "source": [
    "## 2. Get some Ethereum test coins to your testnet address_1 from any source. Provide the Transaction link of the testnet work. "
   ]
  },
  {
   "cell_type": "code",
   "execution_count": null,
   "metadata": {},
   "outputs": [],
   "source": []
  },
  {
   "cell_type": "markdown",
   "metadata": {},
   "source": [
    "## 3. From Task_1 connect to Ethereum network and provide codes to interact with blockchain: \n",
    "- Checking block height at any time.\n",
    "- Getting information about a block\n",
    "- Getting balance information of your address_1\n",
    "- From Task 3.3. Convert the balance to ether.\n",
    "\n",
    "(Hint: https://web3js.readthedocs.io/en/v1.2.4/ or https://web3py.readthedocs.io/ (Links to an external site.))"
   ]
  },
  {
   "cell_type": "code",
   "execution_count": null,
   "metadata": {},
   "outputs": [],
   "source": []
  },
  {
   "cell_type": "markdown",
   "metadata": {},
   "source": [
    "## 4. Send some Eth test coins from address_1 to address_2 and provide Transaction_ID\n",
    "\n",
    "(Use seminar file, not Metamask)"
   ]
  },
  {
   "cell_type": "code",
   "execution_count": null,
   "metadata": {},
   "outputs": [],
   "source": []
  },
  {
   "cell_type": "markdown",
   "metadata": {},
   "source": [
    "## 5. Create a smart contract to add 2 numbers\n",
    "- Use ide http://remix.ethereum.org/ (Links to an external site.).\n",
    "- Use any version of the compiler.\n",
    "- Create a function add (passing 2 parameters from User), variables declared in the state variable.\n",
    "- Connect to any blockchain.\n",
    "- Just provide the code\n",
    "- Reference document: https://docs.soliditylang.org/en/v0.7.5/)"
   ]
  },
  {
   "cell_type": "code",
   "execution_count": null,
   "metadata": {},
   "outputs": [],
   "source": []
  },
  {
   "cell_type": "markdown",
   "metadata": {},
   "source": [
    "## 6. Create an ERC20 smart contract:\n",
    "- Create 100 tokens.\n",
    "- Deploy the contract from address_2. Provide contract creation transaction_id and contract address (the address that is created when the contract is deployed) and 3 letters abbreviation of your coin. We will check the existence on the ropsten testnet.\n",
    "- Send ten tokens to 0x7F0623b3Ed830BF5e7CE54A8a3cE7676779522F9 address. (Provide Transaction Id)"
   ]
  },
  {
   "cell_type": "code",
   "execution_count": null,
   "metadata": {},
   "outputs": [],
   "source": []
  },
  {
   "cell_type": "markdown",
   "metadata": {},
   "source": []
  }
 ],
 "metadata": {
  "kernelspec": {
   "display_name": "Python 3",
   "language": "python",
   "name": "python3"
  },
  "language_info": {
   "codemirror_mode": {
    "name": "ipython",
    "version": 3
   },
   "file_extension": ".py",
   "mimetype": "text/x-python",
   "name": "python",
   "nbconvert_exporter": "python",
   "pygments_lexer": "ipython3",
   "version": "3.8.5"
  }
 },
 "nbformat": 4,
 "nbformat_minor": 4
}
