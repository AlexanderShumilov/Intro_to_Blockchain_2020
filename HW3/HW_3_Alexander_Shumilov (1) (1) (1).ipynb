{
 "cells": [
  {
   "cell_type": "markdown",
   "metadata": {},
   "source": [
    "## Pre-requisite 0: make imports"
   ]
  },
  {
   "cell_type": "code",
   "execution_count": 31,
   "metadata": {},
   "outputs": [],
   "source": [
    "from web3 import Web3\n",
    "import os\n",
    "import ecdsa\n",
    "from Crypto.Hash import keccak    \n",
    "from Password_Key_generator import password_pvt_key\n",
    "#import webbrowser"
   ]
  },
  {
   "cell_type": "markdown",
   "metadata": {},
   "source": [
    "## Pre-requisite 1: Generate 2 Ethereum testnet addresses (address_1, address_2) "
   ]
  },
  {
   "cell_type": "code",
   "execution_count": 32,
   "metadata": {},
   "outputs": [
    {
     "name": "stdout",
     "output_type": "stream",
     "text": [
      "First key\n",
      "\n",
      "You Entered/Generated Private key.....\n",
      "\n",
      "\n",
      "Public_Key: 04df8599e86e707af01685781387e02f710102f955c25cb62e72855ab71531e5775300343e1d27aa2fa70279ad0d4d2608039c7e28de58440571582e506d31af\n",
      "\n",
      "\n",
      "Taking SHA3 of Public_Key (32 bytes)\n",
      "Full Address(32B): 0x8e1419c31caa9433712454aaa0473571c34749a78aa3d939f7853f4f0292b182\n",
      "\n",
      "\n",
      "Ethereum Address is last 20bytes of Full Address\n",
      "Address: a0473571c34749a78aa3d939f7853f4f0292b182\n",
      "\n",
      "Private Key: 8dec2f6475c6150bbd9538d0435ec62e66e660532601bbc4a9fee34cab1f1960\n",
      "Checksum Address: 0xA0473571c34749A78aa3d939F7853F4f0292b182\n",
      "------------------------------------\n",
      "\n",
      "Second key\n",
      "\n",
      "You Entered/Generated Private key.....\n",
      "\n",
      "\n",
      "Public_Key: e7c14ab845f77448635c45c95531d4be5bf85256fbaf848700bd000c5035b50e7aa13c62d58843fd1b60b30043daa450b237c6be97ad39386e9a6f40d563a091\n",
      "\n",
      "\n",
      "Taking SHA3 of Public_Key (32 bytes)\n",
      "Full Address(32B): 0x6d43bf848b698b5f07357e5e39e89577044f99eebc24fb6c69a8efc0ef1156f9\n",
      "\n",
      "\n",
      "Ethereum Address is last 20bytes of Full Address\n",
      "Address: 39e89577044f99eebc24fb6c69a8efc0ef1156f9\n",
      "\n",
      "Private Key: e3ada2a194db9488c987c68e482966b6a5aaaa5b18b3eee4c9faf80b0d6221e8\n",
      "Checksum Address: 0x39E89577044F99eeBc24fB6c69A8efc0eF1156f9\n"
     ]
    }
   ],
   "source": [
    "# Functions frpm seminar\n",
    "\n",
    "def sha3(a):\n",
    "    keccak_hash = keccak.new(digest_bits=256)\n",
    "    keccak_hash.update(a)\n",
    "    #return '0x' + keccak_hash.hexdigest()[24:]\n",
    "    return '0x' + keccak_hash.hexdigest()\n",
    "\n",
    "#Function for Checksum\n",
    "def checksum_encode(addr_str): # Takes a hex (string) address as input\n",
    "    keccak_hash = keccak.new(digest_bits=256)\n",
    "    out = ''\n",
    "    addr = addr_str.lower().replace('0x', '')\n",
    "    keccak_hash.update(addr.encode('ascii'))\n",
    "    hash_addr = keccak_hash.hexdigest()\n",
    "    for i, c in enumerate(addr):\n",
    "        #print(i,c, hash_addr[i])\n",
    "        if int(hash_addr[i], 16) >= 8:\n",
    "            out += c.upper()\n",
    "        else:\n",
    "            out += c\n",
    "    return '0x' + out\n",
    "\n",
    "def test(addrstr):\n",
    "    assert(addrstr == checksum_encode(addrstr))\n",
    "    \n",
    "def ecdsa_maths(private_key_from_hex):\n",
    "    sk = ecdsa.SigningKey.from_string(private_key_from_hex, curve = ecdsa.SECP256k1)\n",
    "    #actual publickey to verify messages that singed using own pvt key\n",
    "    verification_key = sk.verifying_key\n",
    "    #making Public Key:\n",
    "    public_key =  verification_key.to_string()\n",
    "    #print(public_key.hex())\n",
    "    return public_key\n",
    "\n",
    "def address(passwrd):\n",
    "    #Storing Hex_of_Private_key\n",
    "    password = passwrd\n",
    "    print(\"You Entered/Generated Private key.....\\n\\n\")\n",
    "    \n",
    "    #calling ecdsa_math function to receive public_key of the private_key(password)\n",
    "    public_key = ecdsa_maths(password)\n",
    "    print(\"Public_Key:\", public_key.hex())\n",
    "    \n",
    "\n",
    "    #Taking SHA of public_key\n",
    "    print('\\n\\nTaking SHA3 of Public_Key (32 bytes)')\n",
    "    full_address = sha3(public_key)\n",
    "    print('Full Address(32B):',full_address)\n",
    "    \n",
    "    #last_20bytes_of_public_key_Address\n",
    "    print(\"\\n\\nEthereum Address is last 20bytes of Full Address\")\n",
    "    address = full_address[26:]\n",
    "    print(\"Address:\",address)\n",
    "    \n",
    "    #print(\"Raw_Address\", address,'\\n')\n",
    "    print(f'\\nPrivate Key: {password.hex()}\\nChecksum Address: {checksum_encode(address)}')\n",
    "    \n",
    "# Generation itself\n",
    "print('First key')\n",
    "print()\n",
    "\n",
    "private_key_1 = os.urandom(32).hex()\n",
    "test_address_gen_1 = address(bytes.fromhex(private_key_1))\n",
    "\n",
    "print('------------------------------------')\n",
    "print()\n",
    "print('Second key')\n",
    "print()\n",
    "\n",
    "private_key_2 = os.urandom(32).hex()\n",
    "test_address_gen_2 = address(bytes.fromhex(private_key_2))"
   ]
  },
  {
   "cell_type": "code",
   "execution_count": 33,
   "metadata": {},
   "outputs": [],
   "source": [
    "test_address_1 = '0xA0473571c34749A78aa3d939F7853F4f0292b182'\n",
    "test_address_2 = '0x39E89577044F99eeBc24fB6c69A8efc0eF1156f9'\n",
    "\n",
    "pub_k_1 = '04df8599e86e707af01685781387e02f710102f955c25cb62e72855ab71531e5775300343e1d27aa2fa70279ad0d4d2608039c7e28de58440571582e506d31af'\n",
    "pub_k_2 = 'e7c14ab845f77448635c45c95531d4be5bf85256fbaf848700bd000c5035b50e7aa13c62d58843fd1b60b30043daa450b237c6be97ad39386e9a6f40d563a091'\n",
    "\n",
    "sha3_1 = '0x8e1419c31caa9433712454aaa0473571c34749a78aa3d939f7853f4f0292b182'\n",
    "sha3_2 = '0x6d43bf848b698b5f07357e5e39e89577044f99eebc24fb6c69a8efc0ef1156f9'\n",
    "\n",
    "priv_k_1 = '8dec2f6475c6150bbd9538d0435ec62e66e660532601bbc4a9fee34cab1f1960'\n",
    "priv_k_2 = 'e3ada2a194db9488c987c68e482966b6a5aaaa5b18b3eee4c9faf80b0d6221e8'\n",
    "\n",
    "\n",
    "test(test_address_1)\n",
    "test(test_address_2)\n",
    "\n",
    "# If addresses are correct, there will be no output"
   ]
  },
  {
   "cell_type": "markdown",
   "metadata": {},
   "source": [
    "## Pre-requisite 2: Keep Address_1 as your main test address (use ropsten test network)\n",
    "(Hint: Take input from the user, use the if-else method to connect to different networks. User different Infura Endpoints)"
   ]
  },
  {
   "cell_type": "code",
   "execution_count": 34,
   "metadata": {},
   "outputs": [
    {
     "name": "stdout",
     "output_type": "stream",
     "text": [
      "Main address :  0xA0473571c34749A78aa3d939F7853F4f0292b182\n",
      "Second address:  0x39E89577044F99eeBc24fB6c69A8efc0eF1156f9\n"
     ]
    }
   ],
   "source": [
    "print('Main address : ', test_address_1)\n",
    "print('Second address: ', test_address_2)"
   ]
  },
  {
   "cell_type": "markdown",
   "metadata": {},
   "source": [
    "## 1. Create a user-interacting interface to connect to different blockchain networks, i.e. main net, testnets (any two), and ganache "
   ]
  },
  {
   "cell_type": "code",
   "execution_count": 38,
   "metadata": {},
   "outputs": [],
   "source": [
    "mainnet_url = 'https://mainnet.infura.io/v3/3f9f2bd3d30c43c09cfd821c39f2f26c'\n",
    "testnet_url = 'https://ropsten.infura.io/v3/3f9f2bd3d30c43c09cfd821c39f2f26c' # Ropsten\n",
    "ganache_url = \"http://127.0.0.1:7545\""
   ]
  },
  {
   "cell_type": "code",
   "execution_count": 42,
   "metadata": {},
   "outputs": [
    {
     "name": "stdout",
     "output_type": "stream",
     "text": [
      "Hello, user!\n",
      "Choose network you want to connect:\n",
      "1 : Mainnet\n",
      "2 : Testnet\n",
      "3 : Ganache\n",
      "Enter 1, 2 or 3: 1\n"
     ]
    }
   ],
   "source": [
    "print('Hello, user!')\n",
    "print('Choose network you want to connect:')\n",
    "\n",
    "print('1 : Mainnet')\n",
    "print('2 : Testnet')\n",
    "print('3 : Ganache')\n",
    "\n",
    "choice = input('Enter 1, 2 or 3: ')"
   ]
  },
  {
   "cell_type": "code",
   "execution_count": 43,
   "metadata": {},
   "outputs": [
    {
     "name": "stdout",
     "output_type": "stream",
     "text": [
      "You chose Mainnet\n",
      "Connection established\n"
     ]
    }
   ],
   "source": [
    "if choice not in ['1', '2', '3']:\n",
    "    print('You entered wrong number, try 1, 2 or 3 once again please')\n",
    "    choice = input('Enter 1, 2 or 3: ')\n",
    "\n",
    "if choice == '1':\n",
    "    print('You chose Mainnet')\n",
    "    web3 = Web3(Web3.HTTPProvider(testnet_url))\n",
    "    \n",
    "elif choice == '2':\n",
    "    print('You chose Testnet')\n",
    "    web3 = Web3(Web3.HTTPProvider(mainnet_url))\n",
    "    \n",
    "else:\n",
    "    print('You chose Ganache')\n",
    "    web3 = Web3(Web3.HTTPProvider(ganache_url))\n",
    "    \n",
    "if(web3.isConnected()):\n",
    "    print('Connection established')"
   ]
  },
  {
   "cell_type": "markdown",
   "metadata": {},
   "source": [
    "## 2. Get some Ethereum test coins to your testnet address_1 from any source. Provide the Transaction link of the testnet work. "
   ]
  },
  {
   "cell_type": "markdown",
   "metadata": {},
   "source": [
    "### Comment: I got from my colleage due to ropsten fauset server error"
   ]
  },
  {
   "cell_type": "code",
   "execution_count": 36,
   "metadata": {},
   "outputs": [
    {
     "name": "stdout",
     "output_type": "stream",
     "text": [
      "Address:  0xA0473571c34749A78aa3d939F7853F4f0292b182\n",
      "Transaction ID:  0xbbc2ee7651e0b863fe958db83decd0366b08886445139088f977ebac98ac79d0\n"
     ]
    }
   ],
   "source": [
    "tx_id_2 = '0xbbc2ee7651e0b863fe958db83decd0366b08886445139088f977ebac98ac79d0'\n",
    "print('Address: ', test_address_1)\n",
    "print('Transaction ID: ', tx_id_2)\n"
   ]
  },
  {
   "cell_type": "markdown",
   "metadata": {},
   "source": [
    "## 3. From Task_1 connect to Ethereum network and provide codes to interact with blockchain: \n",
    "- Checking block height at any time.\n",
    "- Getting information about a block\n",
    "- Getting balance information of your address_1\n",
    "- From Task 3.3. Convert the balance to ether.\n",
    "\n",
    "(Hint: https://web3js.readthedocs.io/en/v1.2.4/ or https://web3py.readthedocs.io/ (Links to an external site.))"
   ]
  },
  {
   "cell_type": "markdown",
   "metadata": {},
   "source": [
    "#### 3.1 Checking block height at any time"
   ]
  },
  {
   "cell_type": "code",
   "execution_count": 44,
   "metadata": {},
   "outputs": [
    {
     "data": {
      "text/plain": [
       "9239025"
      ]
     },
     "execution_count": 44,
     "metadata": {},
     "output_type": "execute_result"
    }
   ],
   "source": [
    "web3.eth.blockNumber"
   ]
  },
  {
   "cell_type": "markdown",
   "metadata": {},
   "source": [
    "#### 3.2 Getting information about a block"
   ]
  },
  {
   "cell_type": "code",
   "execution_count": 45,
   "metadata": {},
   "outputs": [
    {
     "data": {
      "text/plain": [
       "AttributeDict({'difficulty': 64050586,\n",
       " 'extraData': HexBytes('0xd683010914846765746886676f312e3135856c696e7578'),\n",
       " 'gasLimit': 8000000,\n",
       " 'gasUsed': 0,\n",
       " 'hash': HexBytes('0x931bb5c3972893666a35c438eb98412b7c4e530af992d550867d614afdd2ef94'),\n",
       " 'logsBloom': HexBytes('0x00000000000000000000000000000000000000000000000000000000000000000000000000000000000000000000000000000000000000000000000000000000000000000000000000000000000000000000000000000000000000000000000000000000000000000000000000000000000000000000000000000000000000000000000000000000000000000000000000000000000000000000000000000000000000000000000000000000000000000000000000000000000000000000000000000000000000000000000000000000000000000000000000000000000000000000000000000000000000000000000000000000000000000000000000000000'),\n",
       " 'miner': '0x1Cdb00D07b721B98Da52532DB9a7D82D2A4bF2e0',\n",
       " 'mixHash': HexBytes('0x9075d24798bd7b1a0dba29a0a6417618d3f87882f3b5aafe54ef5879dcba179a'),\n",
       " 'nonce': HexBytes('0x3db047cdb7b120e1'),\n",
       " 'number': 9239025,\n",
       " 'parentHash': HexBytes('0x6d9d5fe3d39f1e8253b278af9b274f9e9e35ea32291edded65c7d7ebb0149748'),\n",
       " 'receiptsRoot': HexBytes('0x56e81f171bcc55a6ff8345e692c0f86e5b48e01b996cadc001622fb5e363b421'),\n",
       " 'sha3Uncles': HexBytes('0x1dcc4de8dec75d7aab85b567b6ccd41ad312451b948a7413f0a142fd40d49347'),\n",
       " 'size': 538,\n",
       " 'stateRoot': HexBytes('0x7467e8d4253b75c746e63d29989d1a320e2eaca8a293d8ca3348ea6fc1b6d8e0'),\n",
       " 'timestamp': 1607703840,\n",
       " 'totalDifficulty': 32314607083222571,\n",
       " 'transactions': [],\n",
       " 'transactionsRoot': HexBytes('0x56e81f171bcc55a6ff8345e692c0f86e5b48e01b996cadc001622fb5e363b421'),\n",
       " 'uncles': []})"
      ]
     },
     "execution_count": 45,
     "metadata": {},
     "output_type": "execute_result"
    }
   ],
   "source": [
    "web3.eth.getBlock('latest') # Latest info"
   ]
  },
  {
   "cell_type": "markdown",
   "metadata": {},
   "source": [
    "#### 3.3 Getting balance information of your address_1 (THIS IS AFTER I GOT 0.4 + 0.3 ETHERS AND SENT 0.2 TO ADDRESS 2)"
   ]
  },
  {
   "cell_type": "code",
   "execution_count": 54,
   "metadata": {},
   "outputs": [
    {
     "name": "stdout",
     "output_type": "stream",
     "text": [
      "498950000000000000\n"
     ]
    }
   ],
   "source": [
    "balance_in_Wei = web3.eth.getBalance(test_address_1)\n",
    "print(balance_in_Wei) # THIS CELL WAS RUN AFTER POINT 4, SO BASICALLY HERE 0.7 - 0.2"
   ]
  },
  {
   "cell_type": "markdown",
   "metadata": {},
   "source": [
    "#### 3.4 Convert the balance to ether"
   ]
  },
  {
   "cell_type": "code",
   "execution_count": 53,
   "metadata": {},
   "outputs": [
    {
     "data": {
      "text/plain": [
       "Decimal('0.49895')"
      ]
     },
     "execution_count": 53,
     "metadata": {},
     "output_type": "execute_result"
    }
   ],
   "source": [
    "web3.fromWei(balance_in_Wei, 'ether')"
   ]
  },
  {
   "cell_type": "markdown",
   "metadata": {},
   "source": [
    "## 4. Send some Eth test coins from address_1 to address_2 and provide Transaction_ID\n",
    "\n",
    "(Use seminar file, not Metamask)"
   ]
  },
  {
   "cell_type": "code",
   "execution_count": 48,
   "metadata": {},
   "outputs": [
    {
     "name": "stdout",
     "output_type": "stream",
     "text": [
      "0\n"
     ]
    }
   ],
   "source": [
    "def error_api(er):\n",
    "    if er == 200: \n",
    "        print('Request OK')\n",
    "    elif er == 400: \n",
    "        print('The address is invalid')\n",
    "    elif er == 403: \n",
    "        print('The queue is full / you are greylisted / blacklisted.')\n",
    "    elif er == 500: \n",
    "        print('Internal faucet error')\n",
    "    else:\n",
    "        print('Unknown Error Occured')\n",
    "        \n",
    "#Enter Address\n",
    "#address = input(\"Enter Eth Address: \")\n",
    "address = test_address_1\n",
    "#private_key = input(f\"Enter Private Key or your {address} address:\\n \")\n",
    "private_key = priv_k_1\n",
    "\n",
    "nonce = web3.eth.getTransactionCount(address)\n",
    "print(nonce)"
   ]
  },
  {
   "cell_type": "code",
   "execution_count": 49,
   "metadata": {},
   "outputs": [
    {
     "name": "stdout",
     "output_type": "stream",
     "text": [
      "Enter Receiver's address0x39E89577044F99eeBc24fB6c69A8efc0eF1156f9\n",
      "Ethers: 0.2\n",
      "Transaction info:\n",
      "{'nonce': 0, 'to': '0x39E89577044F99eeBc24fB6c69A8efc0eF1156f9', 'value': 200000000000000000, 'gas': 2000000, 'gasPrice': 50000000000}\n",
      "\n",
      "rawTransaction: 0xf86d80850ba43b7400831e84809439e89577044f99eebc24fb6c69a8efc0ef1156f98802c68af0bb140000801ca00d0318a8d45ba9707c9576c1f3a87fe7d6c748e713910ac3f9648f423455cc87a02ee870539768485b94e8aea46be98781f2dd317bc5896fdacd41443fd5f5a68c \n",
      "hash: 0x576322b7f1225e032055d025cdb3369937a724b381591a78e0523b3e802edaaa\n",
      "r: 5885537766324074597713190013560906409584107986438628365251524438949967023239\n",
      "v: 28\n",
      "s: 21217074803070308381132699122453484582378344642134389717367728018563620251276\n"
     ]
    }
   ],
   "source": [
    "tx = {\n",
    "      'nonce':nonce,\n",
    "      #'from': account_1,\n",
    "      'to': input(\"Enter Receiver's address\"),\n",
    "      #'to': test_address_2,\n",
    "      'value': web3.toWei(float(input(\"Ethers: \")),'ether'),\n",
    "      #'value': web3.toWei(float(00.1),'ether'),\n",
    "      'gas':2000000,\n",
    "      'gasPrice':web3.toWei('50','gwei')\n",
    "      }\n",
    "\n",
    "print('Transaction info:')\n",
    "print(tx)\n",
    "print()\n",
    "signed_tx = web3.eth.account.signTransaction(tx,private_key)\n",
    "print(f\"rawTransaction: {signed_tx['rawTransaction'].hex()} \\nhash: {signed_tx['hash'].hex()}\\nr: {signed_tx['r']}\\nv: {signed_tx['v']}\\ns: {signed_tx['s']}\")"
   ]
  },
  {
   "cell_type": "code",
   "execution_count": 50,
   "metadata": {},
   "outputs": [
    {
     "name": "stdout",
     "output_type": "stream",
     "text": [
      "Hash of transaction:  0x576322b7f1225e032055d025cdb3369937a724b381591a78e0523b3e802edaaa\n"
     ]
    }
   ],
   "source": [
    "# Let's create hash\n",
    "\n",
    "tx_hash = web3.eth.sendRawTransaction(signed_tx[\"rawTransaction\"]).hex()\n",
    "print('Hash of transaction: ', tx_hash)"
   ]
  },
  {
   "cell_type": "code",
   "execution_count": 51,
   "metadata": {},
   "outputs": [
    {
     "data": {
      "text/plain": [
       "True"
      ]
     },
     "execution_count": 51,
     "metadata": {},
     "output_type": "execute_result"
    }
   ],
   "source": [
    "# Let's see the transaction\n",
    "\n",
    "link = 'https://ropsten.etherscan.io/tx/' + tx_hash\n",
    "\n",
    "import webbrowser\n",
    "\n",
    "webbrowser.open(link) # Works fine :)"
   ]
  },
  {
   "cell_type": "markdown",
   "metadata": {},
   "source": [
    "## 5. Create a smart contract to add 2 numbers\n",
    "- Use ide http://remix.ethereum.org/ (Links to an external site.).\n",
    "- Use any version of the compiler.\n",
    "- Create a function add (passing 2 parameters from User), variables declared in the state variable.\n",
    "- Connect to any blockchain.\n",
    "- Just provide the code\n",
    "- Reference document: https://docs.soliditylang.org/en/v0.7.5/)"
   ]
  },
  {
   "cell_type": "markdown",
   "metadata": {},
   "source": [
    "pragma solidity >=0.4.0 <0.7.0;\n",
    "\n",
    "contract this_contract_is_smart {\n",
    "\n",
    "    uint c;\n",
    "    \n",
    "    function add(uint a, uint b) public returns(uint) {\n",
    "        \n",
    "        c = a + b;\n",
    "        return c;\n",
    "    }\n",
    "}"
   ]
  },
  {
   "cell_type": "markdown",
   "metadata": {},
   "source": [
    "## 6. Create an ERC20 smart contract:\n",
    "- Create 100 tokens.\n",
    "- Deploy the contract from address_2. Provide contract creation transaction_id and contract address (the address that is created when the contract is deployed) and 3 letters abbreviation of your coin. We will check the existence on the ropsten testnet.\n",
    "- Send ten tokens to 0x7F0623b3Ed830BF5e7CE54A8a3cE7676779522F9 address. (Provide Transaction Id)"
   ]
  },
  {
   "cell_type": "code",
   "execution_count": 55,
   "metadata": {},
   "outputs": [],
   "source": [
    "def token_symbol():\n",
    "    temp = input(\"Enter 3 Identity Symbol for your token: \").upper()\n",
    "    if len(temp) != 3:\n",
    "        print(\"Length of Symbol is not 3\")\n",
    "        return token_symbol()\n",
    "    else:\n",
    "        return temp\n",
    "\n",
    "def ownerToken_TotalToken(a,b):\n",
    "    temp = input(f\"How many you want to own {b} tokens?: \")\n",
    "    if int(a) < int(temp):\n",
    "        print(\"Owner cannot own Tokens more than total available tokens.\")\n",
    "        return ownerToken_TotalToken(a,b)\n",
    "    else:\n",
    "        return temp"
   ]
  },
  {
   "cell_type": "code",
   "execution_count": 56,
   "metadata": {},
   "outputs": [
    {
     "name": "stdout",
     "output_type": "stream",
     "text": [
      "Enter Token name: IwantAforThisCourse\n",
      "Enter 3 Identity Symbol for your token: SDG\n",
      "Total supply of Iwantaforthiscourse (SDG) Tokens: 100\n",
      "How many you want to own SDG tokens?: 100\n"
     ]
    }
   ],
   "source": [
    "name_token = input(\"Enter Token name: \").title()\n",
    "token_sym = token_symbol()\n",
    "token_supply = input(f\"Total supply of {name_token} ({token_sym}) Tokens: \")\n",
    "balance_of_owner = ownerToken_TotalToken(token_supply,token_sym)"
   ]
  },
  {
   "cell_type": "code",
   "execution_count": 57,
   "metadata": {},
   "outputs": [
    {
     "name": "stdout",
     "output_type": "stream",
     "text": [
      "\n",
      "pragma solidity ^0.4.4;\n",
      "\n",
      "contract Token {\n",
      "\n",
      "    function totalSupply() constant returns (uint256 supply) {}\n",
      "    function balanceOf(address _owner) constant returns (uint256 balance) {}\n",
      "    function transfer(address _to, uint256 _value) returns (bool success) {}\n",
      "    function transferFrom(address _from, address _to, uint256 _value) returns (bool success) {}\n",
      "    function approve(address _spender, uint256 _value) returns (bool success) {}\n",
      "    function allowance(address _owner, address _spender) constant returns (uint256 remaining) {}\n",
      "\n",
      "    event Transfer(address indexed _from, address indexed _to, uint256 _value);\n",
      "    event Approval(address indexed _owner, address indexed _spender, uint256 _value);\n",
      "    \n",
      "}\n",
      "\n",
      "contract StandardToken is Token {\n",
      "\n",
      "    function transfer(address _to, uint256 _value) returns (bool success) {\n",
      "        if (balances[msg.sender] >= _value && _value > 0) {\n",
      "            balances[msg.sender] -= _value;\n",
      "            balances[_to] += _value;\n",
      "            Transfer(msg.sender, _to, _value);\n",
      "            return true;\n",
      "        } else { return false; }\n",
      "    }\n",
      "\n",
      "    function transferFrom(address _from, address _to, uint256 _value) returns (bool success) {\n",
      "        if (balances[_from] >= _value && allowed[_from][msg.sender] >= _value && _value > 0) {\n",
      "            balances[_to] += _value;\n",
      "            balances[_from] -= _value;\n",
      "            allowed[_from][msg.sender] -= _value;\n",
      "            Transfer(_from, _to, _value);\n",
      "            return true;\n",
      "        } else { return false; }\n",
      "    }\n",
      "\n",
      "    function balanceOf(address _owner) constant returns (uint256 balance) {\n",
      "        return balances[_owner];\n",
      "    }\n",
      "\n",
      "    function approve(address _spender, uint256 _value) returns (bool success) {\n",
      "        allowed[msg.sender][_spender] = _value;\n",
      "        Approval(msg.sender, _spender, _value);\n",
      "        return true;\n",
      "    }\n",
      "\n",
      "    function allowance(address _owner, address _spender) constant returns (uint256 remaining) {\n",
      "      return allowed[_owner][_spender];\n",
      "    }\n",
      "\n",
      "    mapping (address => uint256) balances;\n",
      "    mapping (address => mapping (address => uint256)) allowed;\n",
      "    uint256 public totalSupply;\n",
      "}\n",
      "\n",
      "contract ERC20Token is StandardToken {\n",
      "\n",
      "    function () {\n",
      "        throw;\n",
      "\n",
      "    }\n",
      "\n",
      "    string public name;                   \n",
      "    uint8 public decimals;                \n",
      "    string public symbol;                 \n",
      "    string public version = 'H1.0';       \n",
      "\n",
      "    function ERC20Token(\n",
      "    ) {\n",
      "        balances[msg.sender] = 100;               \n",
      "        totalSupply = 100;                        \n",
      "        name = \"Iwantaforthiscourse\";                 \n",
      "        decimals = 0;                            \n",
      "        symbol = \"SDG\";                         \n",
      "    }\n",
      "\n",
      "    \n",
      "    function approveAndCall(address _spender, uint256 _value, bytes _extraData) returns (bool success) {\n",
      "        allowed[msg.sender][_spender] = _value;\n",
      "        Approval(msg.sender, _spender, _value);\n",
      "\n",
      "        if(!_spender.call(bytes4(bytes32(sha3(\"receiveApproval(address,uint256,address,bytes)\"))), msg.sender, _value, this, _extraData)) { throw; }\n",
      "        return true;\n",
      "    }\n",
      "}\n",
      "\n"
     ]
    }
   ],
   "source": [
    "solidity_contract = '''\n",
    "pragma solidity ^0.4.4;\n",
    "\n",
    "contract Token {{\n",
    "\n",
    "    function totalSupply() constant returns (uint256 supply) {{}}\n",
    "    function balanceOf(address _owner) constant returns (uint256 balance) {{}}\n",
    "    function transfer(address _to, uint256 _value) returns (bool success) {{}}\n",
    "    function transferFrom(address _from, address _to, uint256 _value) returns (bool success) {{}}\n",
    "    function approve(address _spender, uint256 _value) returns (bool success) {{}}\n",
    "    function allowance(address _owner, address _spender) constant returns (uint256 remaining) {{}}\n",
    "\n",
    "    event Transfer(address indexed _from, address indexed _to, uint256 _value);\n",
    "    event Approval(address indexed _owner, address indexed _spender, uint256 _value);\n",
    "    \n",
    "}}\n",
    "\n",
    "contract StandardToken is Token {{\n",
    "\n",
    "    function transfer(address _to, uint256 _value) returns (bool success) {{\n",
    "        if (balances[msg.sender] >= _value && _value > 0) {{\n",
    "            balances[msg.sender] -= _value;\n",
    "            balances[_to] += _value;\n",
    "            Transfer(msg.sender, _to, _value);\n",
    "            return true;\n",
    "        }} else {{ return false; }}\n",
    "    }}\n",
    "\n",
    "    function transferFrom(address _from, address _to, uint256 _value) returns (bool success) {{\n",
    "        if (balances[_from] >= _value && allowed[_from][msg.sender] >= _value && _value > 0) {{\n",
    "            balances[_to] += _value;\n",
    "            balances[_from] -= _value;\n",
    "            allowed[_from][msg.sender] -= _value;\n",
    "            Transfer(_from, _to, _value);\n",
    "            return true;\n",
    "        }} else {{ return false; }}\n",
    "    }}\n",
    "\n",
    "    function balanceOf(address _owner) constant returns (uint256 balance) {{\n",
    "        return balances[_owner];\n",
    "    }}\n",
    "\n",
    "    function approve(address _spender, uint256 _value) returns (bool success) {{\n",
    "        allowed[msg.sender][_spender] = _value;\n",
    "        Approval(msg.sender, _spender, _value);\n",
    "        return true;\n",
    "    }}\n",
    "\n",
    "    function allowance(address _owner, address _spender) constant returns (uint256 remaining) {{\n",
    "      return allowed[_owner][_spender];\n",
    "    }}\n",
    "\n",
    "    mapping (address => uint256) balances;\n",
    "    mapping (address => mapping (address => uint256)) allowed;\n",
    "    uint256 public totalSupply;\n",
    "}}\n",
    "\n",
    "contract ERC20Token is StandardToken {{\n",
    "\n",
    "    function () {{\n",
    "        throw;\n",
    "\n",
    "    }}\n",
    "\n",
    "    string public name;                   \n",
    "    uint8 public decimals;                \n",
    "    string public symbol;                 \n",
    "    string public version = 'H1.0';       \n",
    "\n",
    "    function ERC20Token(\n",
    "    ) {{\n",
    "        balances[msg.sender] = {};               \n",
    "        totalSupply = {};                        \n",
    "        name = \"{}\";                 \n",
    "        decimals = 0;                            \n",
    "        symbol = \"{}\";                         \n",
    "    }}\n",
    "\n",
    "    \n",
    "    function approveAndCall(address _spender, uint256 _value, bytes _extraData) returns (bool success) {{\n",
    "        allowed[msg.sender][_spender] = _value;\n",
    "        Approval(msg.sender, _spender, _value);\n",
    "\n",
    "        if(!_spender.call(bytes4(bytes32(sha3(\"receiveApproval(address,uint256,address,bytes)\"))), msg.sender, _value, this, _extraData)) {{ throw; }}\n",
    "        return true;\n",
    "    }}\n",
    "}}\n",
    "'''.format(balance_of_owner,token_supply,name_token,token_sym)\n",
    "\n",
    "print(solidity_contract)"
   ]
  },
  {
   "cell_type": "code",
   "execution_count": 59,
   "metadata": {},
   "outputs": [
    {
     "name": "stdout",
     "output_type": "stream",
     "text": [
      "Contract transaction ID:  0x7d4029daf9a4e6e6a3f474a19ba8323f886908c9c93834827c9e00c427bce338\n",
      "Contract address:  0x4247e8aD1d1A968d1854B948ee76cF19Fb9c1b45\n"
     ]
    }
   ],
   "source": [
    "tx_contract = '0x7d4029daf9a4e6e6a3f474a19ba8323f886908c9c93834827c9e00c427bce338'\n",
    "contract_add = '0x4247e8aD1d1A968d1854B948ee76cF19Fb9c1b45'\n",
    "print('Contract transaction ID: ', tx_contract)\n",
    "print('Contract address: ', contract_add)"
   ]
  },
  {
   "cell_type": "code",
   "execution_count": 60,
   "metadata": {},
   "outputs": [
    {
     "name": "stdout",
     "output_type": "stream",
     "text": [
      "Final token transaction:  0x018d5d136c4598bf6d2e8c6e771e66fd90cbb27c305b1c48153ac7a6c2884a74\n"
     ]
    }
   ],
   "source": [
    "tx_token_send = '0x018d5d136c4598bf6d2e8c6e771e66fd90cbb27c305b1c48153ac7a6c2884a74'\n",
    "print('Final token transaction: ', tx_token_send)"
   ]
  },
  {
   "cell_type": "code",
   "execution_count": null,
   "metadata": {},
   "outputs": [],
   "source": []
  }
 ],
 "metadata": {
  "kernelspec": {
   "display_name": "Python 3",
   "language": "python",
   "name": "python3"
  },
  "language_info": {
   "codemirror_mode": {
    "name": "ipython",
    "version": 3
   },
   "file_extension": ".py",
   "mimetype": "text/x-python",
   "name": "python",
   "nbconvert_exporter": "python",
   "pygments_lexer": "ipython3",
   "version": "3.8.5"
  }
 },
 "nbformat": 4,
 "nbformat_minor": 4
}
